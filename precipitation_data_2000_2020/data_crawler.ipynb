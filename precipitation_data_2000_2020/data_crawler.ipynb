{
 "cells": [
  {
   "cell_type": "code",
   "execution_count": 1,
   "metadata": {},
   "outputs": [],
   "source": [
    "import pandas as pd\n",
    "import matplotlib.pyplot as plt\n",
    "import regex as re"
   ]
  },
  {
   "cell_type": "code",
   "execution_count": 2,
   "metadata": {},
   "outputs": [
    {
     "name": "stderr",
     "output_type": "stream",
     "text": [
      "/var/folders/yf/bvb_cdgn46s4l8cp8l3wd_nc0000gn/T/ipykernel_86759/473477176.py:1: DtypeWarning: Columns (12,41) have mixed types. Specify dtype option on import or set low_memory=False.\n",
      "  vietnam_precipitation_df = pd.read_csv('06. vietnam_prec.csv')\n"
     ]
    },
    {
     "name": "stdout",
     "output_type": "stream",
     "text": [
      "   COMCODE02  DISTCODE02  DISTCODE04  PROCODE02  PROCODE04         COMNAME   \n",
      "0    3051913       30519       158.0        305       17.0    X. L¹c ThÞnh  \\\n",
      "1    3051547       30515       157.0        305       17.0     X. Ngäc S¬n   \n",
      "2    1171503       11715       376.0        117       37.0  Tt.  B×nh Minh   \n",
      "3    1171549       11715       376.0        117       37.0      X. Kim H¶i   \n",
      "4    1171541       11715       376.0        117       37.0      X. V¨n H¶i   \n",
      "\n",
      "  ADMINTYPE     DISTNAME    PRONAME  COMAREA  ...  dd_2018.12.22   \n",
      "0        X·  H. Yªn Thñy   Hßa B×nh    32.80  ...       0.000000  \\\n",
      "1        X·   H. L¹c S¬n   Hßa B×nh    53.29  ...       1.057981   \n",
      "2  ThÞ trÊn   H. Kim S¬n  Ninh B×nh     8.78  ...       1.722646   \n",
      "3        X·   H. Kim S¬n  Ninh B×nh     5.57  ...       1.720288   \n",
      "4        X·   H. Kim S¬n  Ninh B×nh     6.57  ...       2.048620   \n",
      "\n",
      "  dd_2018.12.23 dd_2018.12.24  dd_2018.12.25 dd_2018.12.26  dd_2018.12.27   \n",
      "0      6.901274      0.000000       0.000000           0.0       2.438402  \\\n",
      "1      2.916021      0.441807       0.228211           0.0       0.000000   \n",
      "2      1.877589      0.599701       0.236089           0.0       0.000000   \n",
      "3      1.962539      0.595961       0.240073           0.0       0.000000   \n",
      "4      2.066442      0.698992       0.282634           0.0       0.000000   \n",
      "\n",
      "  dd_2018.12.28 dd_2018.12.29 dd_2018.12.30  dd_2018.12.31  \n",
      "0      5.977805           0.0           0.0            0.0  \n",
      "1      0.000000           0.0           0.0            0.0  \n",
      "2      0.000000           0.0           0.0            0.0  \n",
      "3      0.000000           0.0           0.0            0.0  \n",
      "4      0.000000           0.0           0.0            0.0  \n",
      "\n",
      "[5 rows x 6982 columns]\n"
     ]
    }
   ],
   "source": [
    "vietnam_precipitation_df = pd.read_csv('06. vietnam_prec.csv')\n",
    "print(vietnam_precipitation_df.head())"
   ]
  },
  {
   "cell_type": "code",
   "execution_count": 3,
   "metadata": {},
   "outputs": [
    {
     "name": "stdout",
     "output_type": "stream",
     "text": [
      "      COMCODE02  DISTCODE02  DISTCODE04  PROCODE02  PROCODE04         COMNAME   \n",
      "2613    4071315       40713       457.0        407       44.0  X. Tr­êng Thñy  \\\n",
      "2614    4071311       40713       457.0        407       44.0     X. S¬n Thñy   \n",
      "2615    4071107       40711       456.0        407       44.0     X. Duy Ninh   \n",
      "2616    4071125       40711       456.0        407       44.0     X. Gia Ninh   \n",
      "2617    4071123       40711       456.0        407       44.0      X. Vâ Ninh   \n",
      "\n",
      "     ADMINTYPE       DISTNAME     PRONAME  COMAREA  ...  dd_2018.12.22   \n",
      "2613        X·     H. LÖ Thñy  Qu¶ng B×nh    20.75  ...       0.000000  \\\n",
      "2614        X·     H. LÖ Thñy  Qu¶ng B×nh    13.60  ...       0.000000   \n",
      "2615        X·  H. Qu¶ng Ninh  Qu¶ng B×nh     8.11  ...       0.778814   \n",
      "2616        X·  H. Qu¶ng Ninh  Qu¶ng B×nh    28.50  ...       0.630951   \n",
      "2617        X·  H. Qu¶ng Ninh  Qu¶ng B×nh    21.66  ...       1.322351   \n",
      "\n",
      "     dd_2018.12.23 dd_2018.12.24  dd_2018.12.25 dd_2018.12.26  dd_2018.12.27   \n",
      "2613      8.421806     22.720561       7.480600           0.0            0.0  \\\n",
      "2614     11.392524     26.675812       7.350494           0.0            0.0   \n",
      "2615     10.288817     20.565884       4.372651           0.0            0.0   \n",
      "2616     11.892152     25.002798       6.755043           0.0            0.0   \n",
      "2617      9.716143     18.530996       4.627889           0.0            0.0   \n",
      "\n",
      "     dd_2018.12.28 dd_2018.12.29 dd_2018.12.30  dd_2018.12.31  \n",
      "2613      6.998507     24.508359     16.218483       9.058992  \n",
      "2614      8.520193     29.827136     18.739839      10.442763  \n",
      "2615      3.159638     10.564875      6.363022       3.534085  \n",
      "2616      5.196147     17.559427     10.802101       5.953072  \n",
      "2617      0.000000      0.000000      0.000000       0.000000  \n",
      "\n",
      "[5 rows x 6982 columns]\n"
     ]
    }
   ],
   "source": [
    "# Select row that contains Quang Binh province data: Qu¶ng B×nh\n",
    "is_quang_binh = vietnam_precipitation_df[\"PRONAME\"] == \"Qu¶ng B×nh\"\n",
    "quang_binh_precipitation_df = vietnam_precipitation_df[is_quang_binh]\n",
    "print(quang_binh_precipitation_df.head())"
   ]
  },
  {
   "cell_type": "code",
   "execution_count": 4,
   "metadata": {},
   "outputs": [
    {
     "name": "stdout",
     "output_type": "stream",
     "text": [
      "      dd_2000.01.01  dd_2000.01.02  dd_2000.01.03  dd_2000.01.04   \n",
      "2613            0.0            0.0            0.0            0.0  \\\n",
      "2614            0.0            0.0            0.0            0.0   \n",
      "2615            0.0            0.0            0.0            0.0   \n",
      "2616            0.0            0.0            0.0            0.0   \n",
      "2617            0.0            0.0            0.0            0.0   \n",
      "...             ...            ...            ...            ...   \n",
      "3254            0.0            0.0            0.0            0.0   \n",
      "3255            0.0            0.0            0.0            0.0   \n",
      "3256            0.0            0.0            0.0            0.0   \n",
      "3278            0.0            0.0            0.0            0.0   \n",
      "3364            0.0            0.0            0.0            0.0   \n",
      "\n",
      "      dd_2000.01.05  dd_2000.01.06  dd_2000.01.07  dd_2000.01.08   \n",
      "2613            0.0            0.0            0.0              0  \\\n",
      "2614            0.0            0.0            0.0              0   \n",
      "2615            0.0            0.0            0.0              0   \n",
      "2616            0.0            0.0            0.0              0   \n",
      "2617            0.0            0.0            0.0              0   \n",
      "...             ...            ...            ...            ...   \n",
      "3254            0.0            0.0            0.0              0   \n",
      "3255            0.0            0.0            0.0              0   \n",
      "3256            0.0            0.0            0.0              0   \n",
      "3278            0.0            0.0            0.0              0   \n",
      "3364            0.0            0.0            0.0              0   \n",
      "\n",
      "      dd_2000.01.09  dd_2000.01.10  ...  dd_2018.12.22  dd_2018.12.23   \n",
      "2613              0              0  ...       0.000000       8.421806  \\\n",
      "2614              0              0  ...       0.000000      11.392524   \n",
      "2615              0              0  ...       0.778814      10.288817   \n",
      "2616              0              0  ...       0.630951      11.892152   \n",
      "2617              0              0  ...       1.322351       9.716143   \n",
      "...             ...            ...  ...            ...            ...   \n",
      "3254              0              0  ...       0.000000      13.345666   \n",
      "3255              0              0  ...       0.429811      13.206823   \n",
      "3256              0              0  ...       1.040093       9.901687   \n",
      "3278              0              0  ...       0.000000       8.623107   \n",
      "3364              0              0  ...       0.000000       8.242012   \n",
      "\n",
      "      dd_2018.12.24  dd_2018.12.25  dd_2018.12.26  dd_2018.12.27   \n",
      "2613      22.720561       7.480600            0.0            0.0  \\\n",
      "2614      26.675812       7.350494            0.0            0.0   \n",
      "2615      20.565884       4.372651            0.0            0.0   \n",
      "2616      25.002798       6.755043            0.0            0.0   \n",
      "2617      18.530996       4.627889            0.0            0.0   \n",
      "...             ...            ...            ...            ...   \n",
      "3254      10.054919       0.000000            0.0            0.0   \n",
      "3255       9.893756       0.525563            0.0            0.0   \n",
      "3256       7.730310       1.336122            0.0            0.0   \n",
      "3278      23.652090       8.282341            0.0            0.0   \n",
      "3364      23.048470       5.376292            0.0            0.0   \n",
      "\n",
      "      dd_2018.12.28  dd_2018.12.29  dd_2018.12.30  dd_2018.12.31  \n",
      "2613       6.998507      24.508359      16.218483       9.058992  \n",
      "2614       8.520193      29.827136      18.739839      10.442763  \n",
      "2615       3.159638      10.564875       6.363022       3.534085  \n",
      "2616       5.196147      17.559427      10.802101       5.953072  \n",
      "2617       0.000000       0.000000       0.000000       0.000000  \n",
      "...             ...            ...            ...            ...  \n",
      "3254      10.171562      14.508659       6.645910       0.000000  \n",
      "3255       6.580900       9.329754       4.242814       0.000000  \n",
      "3256       0.000000       0.000000       0.000000       0.000000  \n",
      "3278       7.270876      25.444958      17.027294       9.467291  \n",
      "3364       6.348454      21.291161      13.869249       7.966116  \n",
      "\n",
      "[158 rows x 6940 columns]\n"
     ]
    }
   ],
   "source": [
    "# Create a regular expression for \"dd_2018.12.22\"\n",
    "date_reg_ex = r'dd_\\d{4}.\\d{2}.\\d{2}'\n",
    "is_data = quang_binh_precipitation_df.columns.str.match(date_reg_ex)\n",
    "data_columns_name = quang_binh_precipitation_df.columns[is_data]\n",
    "quang_binh_precipitation_df = quang_binh_precipitation_df[data_columns_name]\n",
    "print(quang_binh_precipitation_df)"
   ]
  },
  {
   "cell_type": "code",
   "execution_count": 5,
   "metadata": {},
   "outputs": [
    {
     "name": "stdout",
     "output_type": "stream",
     "text": [
      "                 2613       2614       2615       2616  2617       2618   \n",
      "date                                                                      \n",
      "2000-01-01   0.000000   0.000000   0.000000   0.000000   0.0   0.000000  \\\n",
      "2000-01-02   0.000000   0.000000   0.000000   0.000000   0.0   0.000000   \n",
      "2000-01-03   0.000000   0.000000   0.000000   0.000000   0.0   0.000000   \n",
      "2000-01-04   0.000000   0.000000   0.000000   0.000000   0.0   0.000000   \n",
      "2000-01-05   0.000000   0.000000   0.000000   0.000000   0.0   0.000000   \n",
      "...               ...        ...        ...        ...   ...        ...   \n",
      "2018-12-27   0.000000   0.000000   0.000000   0.000000   0.0   0.000000   \n",
      "2018-12-28   6.998507   8.520193   3.159638   5.196147   0.0   5.710135   \n",
      "2018-12-29  24.508359  29.827136  10.564875  17.559427   0.0  19.241752   \n",
      "2018-12-30  16.218483  18.739839   6.363022  10.802101   0.0  11.770926   \n",
      "2018-12-31   9.058992  10.442763   3.534085   5.953072   0.0   6.500292   \n",
      "\n",
      "                 2619       2620       2621       2622  ...  3246  3247  3248   \n",
      "date                                                    ...                     \n",
      "2000-01-01   0.000000   0.000000   0.000000   0.000000  ...   0.0   0.0   0.0  \\\n",
      "2000-01-02   0.000000   0.000000   0.000000   0.000000  ...   0.0   0.0   0.0   \n",
      "2000-01-03   0.000000   0.000000   0.000000   0.000000  ...   0.0   0.0   0.0   \n",
      "2000-01-04   0.000000   0.000000   0.000000   0.000000  ...   0.0   0.0   0.0   \n",
      "2000-01-05   0.000000   0.000000   0.000000   0.000000  ...   0.0   0.0   0.0   \n",
      "...               ...        ...        ...        ...  ...   ...   ...   ...   \n",
      "2018-12-27   0.000000   0.000000   0.000000   0.000000  ...   0.0   0.0   0.0   \n",
      "2018-12-28   7.418702   7.489340   5.916453   4.704773  ...   0.0   0.0   0.0   \n",
      "2018-12-29  25.575269  25.355879  20.080921  16.652570  ...   0.0   0.0   0.0   \n",
      "2018-12-30  16.145229  15.356849  12.475760  11.271094  ...   0.0   0.0   0.0   \n",
      "2018-12-31   8.871210   8.561405   6.851352   6.138299  ...   0.0   0.0   0.0   \n",
      "\n",
      "                 3252      3253       3254      3255  3256       3278   \n",
      "date                                                                    \n",
      "2000-01-01   0.000000  0.000000   0.000000  0.000000   0.0   0.000000  \\\n",
      "2000-01-02   0.000000  0.000000   0.000000  0.000000   0.0   0.000000   \n",
      "2000-01-03   0.000000  0.000000   0.000000  0.000000   0.0   0.000000   \n",
      "2000-01-04   0.000000  0.000000   0.000000  0.000000   0.0   0.000000   \n",
      "2000-01-05   0.000000  0.000000   0.000000  0.000000   0.0   0.000000   \n",
      "...               ...       ...        ...       ...   ...        ...   \n",
      "2018-12-27   0.000000  0.000000   0.000000  0.000000   0.0   0.000000   \n",
      "2018-12-28   8.171646  0.453619  10.171562  6.580900   0.0   7.270876   \n",
      "2018-12-29  11.250746  0.717484  14.508659  9.329754   0.0  25.444958   \n",
      "2018-12-30   5.219844  0.328666   6.645910  4.242814   0.0  17.027294   \n",
      "2018-12-31   1.466912  0.000000   0.000000  0.000000   0.0   9.467291   \n",
      "\n",
      "                 3364  \n",
      "date                   \n",
      "2000-01-01   0.000000  \n",
      "2000-01-02   0.000000  \n",
      "2000-01-03   0.000000  \n",
      "2000-01-04   0.000000  \n",
      "2000-01-05   0.000000  \n",
      "...               ...  \n",
      "2018-12-27   0.000000  \n",
      "2018-12-28   6.348454  \n",
      "2018-12-29  21.291161  \n",
      "2018-12-30  13.869249  \n",
      "2018-12-31   7.966116  \n",
      "\n",
      "[6940 rows x 158 columns]\n"
     ]
    }
   ],
   "source": [
    "# Convert column names to ISO 8601 format\n",
    "def convert_to_iso8601(column_name):\n",
    "    date_match = re.match(r'dd_(\\d{4})\\.(\\d{2})\\.(\\d{2})', column_name)\n",
    "    if date_match:\n",
    "        year, month, day = date_match.groups()\n",
    "        return f\"{year}-{month}-{day}\"\n",
    "    else:\n",
    "        return column_name\n",
    "\n",
    "quang_binh_precipitation_df.columns = [convert_to_iso8601(col) for col in quang_binh_precipitation_df.columns]\n",
    "\n",
    "# Transpose the dataframe\n",
    "quang_binh_precipitation_df = quang_binh_precipitation_df.T\n",
    "quang_binh_precipitation_df.index.name = 'date'\n",
    "\n",
    "print(quang_binh_precipitation_df)"
   ]
  },
  {
   "cell_type": "code",
   "execution_count": 6,
   "metadata": {},
   "outputs": [
    {
     "name": "stdout",
     "output_type": "stream",
     "text": [
      "date\n",
      "2000-12-31    1715.142033\n",
      "2001-12-31    1984.346488\n",
      "2002-12-31    1865.038151\n",
      "2003-12-31    1767.097821\n",
      "2004-12-31    1648.422542\n",
      "2005-12-31    2083.398771\n",
      "2006-12-31    1613.897722\n",
      "2007-12-31    2177.668288\n",
      "2008-12-31    2440.601184\n",
      "2009-12-31    1813.999298\n",
      "2010-12-31    2201.145773\n",
      "2011-12-31    2456.737510\n",
      "2012-12-31    1859.943767\n",
      "2013-12-31    2533.604895\n",
      "2014-12-31    1248.255335\n",
      "2015-12-31    1589.864558\n",
      "2016-12-31    2696.595934\n",
      "2017-12-31    2409.172784\n",
      "2018-12-31    1736.447386\n",
      "Freq: A-DEC, Name: Mean Precipitation, dtype: float64\n"
     ]
    }
   ],
   "source": [
    "# Convert the index column to datetime\n",
    "quang_binh_precipitation_df.index = pd.to_datetime(quang_binh_precipitation_df.index)\n",
    "\n",
    "# Group the data by year in the index column and sum the precipitation values for each year for each column\n",
    "quang_binh_precipitation_df = quang_binh_precipitation_df.resample('Y').sum()\n",
    "\n",
    "quang_binh_precipitation_df[\"Mean Precipitation\"] = quang_binh_precipitation_df.mean(axis = 1)\n",
    "\n",
    "print(quang_binh_precipitation_df[\"Mean Precipitation\"])"
   ]
  },
  {
   "cell_type": "code",
   "execution_count": 7,
   "metadata": {},
   "outputs": [],
   "source": [
    "quang_binh_precipitation_df[\"Mean Precipitation\"].to_excel('quang_binh_precipitation.xlsx')"
   ]
  },
  {
   "cell_type": "code",
   "execution_count": 8,
   "metadata": {},
   "outputs": [],
   "source": [
    "final_df = pd.read_excel('quang_binh_precipitation_final.xlsx')\n",
    "\n",
    "final_df[\"Mean Precipitation\"] = final_df[\"Mean Precipitation\"].round(0)\n",
    "\n",
    "# Keep only the year of the date column\n",
    "final_df['date'] = final_df['date'].dt.year\n",
    "\n",
    "# Rename the columns\n",
    "final_df = final_df.rename(columns = {\"date\": \"Year\"}).set_index(\"Year\")\n",
    "\n",
    "final_df.to_excel('quang_binh_precipitation_2000_2020.xlsx')"
   ]
  }
 ],
 "metadata": {
  "kernelspec": {
   "display_name": "Python 3",
   "language": "python",
   "name": "python3"
  },
  "language_info": {
   "codemirror_mode": {
    "name": "ipython",
    "version": 3
   },
   "file_extension": ".py",
   "mimetype": "text/x-python",
   "name": "python",
   "nbconvert_exporter": "python",
   "pygments_lexer": "ipython3",
   "version": "3.11.4"
  },
  "orig_nbformat": 4
 },
 "nbformat": 4,
 "nbformat_minor": 2
}
